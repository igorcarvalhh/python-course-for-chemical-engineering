{
 "cells": [
  {
   "cell_type": "markdown",
   "id": "245da886-7393-42fc-b010-d70cf6b670c8",
   "metadata": {},
   "source": [
    "# Aula 1: Introdução"
   ]
  },
  {
   "cell_type": "markdown",
   "id": "51228d72-6f43-490a-8b45-c545abef7c7e",
   "metadata": {},
   "source": [
    "Este texto resume algumas ideias centrais relevantes para a Engenharia Química usando Python. A ênfase está em apresentar conceitos centrais sobre computação utilizando o Python aplicado a problemas comuns na Engenharia Química. A ideia não é formar programadores, mas capacitar os leitores em conteitos comuns a maioria das linguagens de programação e deixar de encarar o computador como uma caixa preta que não entendemos como funciona. Os capítulos posteriores versam sobre bibliotecas numéricas, tais como NumPy e SciPy, as quais, individualmente, merecem muito mais espaço para serem abordadas do que o fornecido aqui. Temos o objetivo de capacitar o leitor para aprender de maneira independente a como usar as funcionalidades dessas bibliotecas através da documentação disponível tanto online quanto nos próprios pacotes\n",
    "\n",
    "## Aplicações\n",
    "\n",
    "- Simulador de processos\n",
    "- Fluido dinâmica computacional\n",
    "- Automação de tarefas em planilhas de gestão"
   ]
  },
  {
   "cell_type": "markdown",
   "id": "2db641f4-8832-4cd5-af66-91f6ed445d6f",
   "metadata": {},
   "source": [
    "## Linguagem de programação\n",
    "\n",
    "Computador é muito bom em executar tarefas simples muito rápido em comparação com o ser humano Tarefas simples: operações básicas entre número binários Porem ele é burro! Precismos dizer exatamente o que ele precisa fazer (algoritmo). Software + Hardware: Hardware é a parte física do computador. O hardware sozinho não faz nada, o software instrui o hardware o que deve ser feito O hardware entende um conjunto finito de instruções simples, chamamos esse conjunto de Instrunction Set (ISA). De maneira prática um software/programa é uma sequencia dessa instruções que a Processador le uma depois da outra. O problema é que essas instruções nada mais são do que sequencias de 0's e 1's."
   ]
  },
  {
   "cell_type": "markdown",
   "id": "39ee960c-66ba-4fac-98c7-8531fd46e31e",
   "metadata": {},
   "source": [
    "## Programação como suporte à modelagem computacional\n",
    "\n",
    "Existe uma grande quantidade de pacotes que fornecem recursos para modelagem computacional. Se estes satisfizerem as necessidades de pesquisa ou de projeto, e o processamento e a visualização de dados sejam adequadamente suportados através de ferramentas existentes, pode-se realizar estudos de modelagem computacional sem nenhum conhecimento de programação mais aprofundado.\n",
    "\n",
    "Em um ambiente de pesquisa - tanto na academia quanto na pesquisa por novos produtos e idéias na indústria -, muitas vezes se atinge um ponto em que os pacotes existentes não são capazes de realizar uma determinada tarefa de simulação que surge, ou onde se faz necessário o aprendizado de novas maneiras de analisar os dados existentes.\n",
    "\n",
    "Nesse ponto, habilidades de programação tornam-se um requisito. Em geral, também é útil ter um entendimento amplo dos blocos de construção de software e idéias básicas de engenharia de software à medida que usamos mais e mais dispositivos que são controlados por software.\n",
    "\n",
    "Esquecemos, com frequencia, que não há nada que o computador faça que nós, como seres humanos, não possamos fazer. O computador pode fazê-lo muito mais rápido, mas o fará com muitos erros. Portanto, não há mágica nos cálculos que um computador executa: os cálculos poderiam ter sido feitos por seres humanos - na verdade o foram durante muitos anos. Veja, por exemplo, o tópico Computador Humano da Wikipedia.\n",
    "\n",
    "Compreender como construir uma simulação computacional reduz-se, grosso modo, a: (i) encontrar o modelo (muitas vezes, isto significa encontrar as equações corretas), (ii) saber como resolver estas equações numericamente, (iii) implementar os métodos para calcular essas soluções (este é o ponto na programação).\n"
   ]
  },
  {
   "attachments": {},
   "cell_type": "markdown",
   "id": "c2e36ce3-0090-4d1c-8873-97b0cb1a59af",
   "metadata": {},
   "source": [
    "## Por que usar Python?\n",
    "\n",
    "Como Python é uma linguagem interpretada e, muitas vezes, executada mais lentamente do que código compilado, pode-se perguntar por que alguém deveria considerar essa linguagem \"lenta\" para simulações computacionais?\n",
    "\n",
    "Há duas respostas para esta crítica:\n",
    "\n",
    "#### 1. Tempo de implementação versus tempo de execução:\n",
    "\n",
    "Não é apenas o tempo de execução que contribui para o custo de um projeto computacional: também é necessário considerar o custo do trabalho de desenvolvimento e manutenção. Nos primórdios da computação científica (digamos, nas decádas de 1960/70/80), o tempo de computação era tão proibitivo que fazia sentido investir muitos meses do tempo de um programador para melhorar o desempenho de um cálculo em qualquer ínfima porcentagem.\n",
    "\n",
    "Hoje em dia, no entanto, os ciclos de uma unidade de processamento (CPU) tornaram-se muito mais baratos do que o tempo do programador. Para os códigos de pesquisa, os quais são executados, via de regra, apenas um pequeno número de vezes (antes que os pesquisadores passem para o próximo problema), pode ser econômico aceitar que o código seja executado apenas com 25% da velocidade esperada possível se isto economiza, digamos, um mês do tempo de um pesquisador (ou programador). Por exemplo: se o tempo de execução de parte do código for de 10 horas, com uma previsão de que ele seja executado cerca de 100 vezes, então o tempo total de execução é de aproximadamente 1000 horas. Seria ótimo se isto pudesse ser reduzido para 25%. Seria uma economia de 750 horas de processamento. Por outro lado, uma espera extra (cerca de um mês) e o custo de 750 horas de CPU valeria o investimento de um mês do tempo de uma pessoa.\n",
    "\n",
    "#### 2. Legibilidade e manutenção do código - código curto, menos erros: \n",
    "\n",
    "Uma questão relacionada é que um código de pesquisa não é usado apenas para um projeto, mas continua sendo usado repetidas vezes, evolui, cresce, bifurca-se etc. Neste caso, o investimento em mais tempo para tornar o código mais rápido é uma justificativa frequente. Ao mesmo tempo, uma quantidade significativa de tempo do programador concentrar-se-á em (i) introduzir as mudanças necessárias, (ii) testá-las mesmo antes de o trabalho de otimização da velocidade de execução da versão alterada começar. Para manter, estender e modificar um código de modos ainda imprevistos, o uso de uma linguagem que seja fácil de ler e que possua grande poder expressivo é recomendado.\n",
    "\n",
    "Código Python bem escrito pode ser muito rápido se partes críticas e demoradas do código forem executadas através de linguagens compiladas: normalmente, menos de 5% do código de um projeto de simulação precisam de mais de 95% do tempo de execução. Desde que esses cálculos sejam feitos de forma muito eficiente, não é necessário se preocupar com todas as outras partes do código, já que o tempo total de sua execução é insignificante.\n",
    "   \n",
    "A parte do programa onde há intensa computação deve ser ajustada para alcançar o melhor desempenho. Várias opções são oferecidas em Python:\n",
    "\n",
    "   - Por exemplo, a extensão NumPy fornece uma interface Python para as eficientes bibliotecas compiladas LAPACK, que são quase o padrão em álgebra linear numérica. Se os problemas em estudo puderem ser formulados de forma que, eventualmente, grandes sistemas de equações algébricas tenham que ser resolvidos, ou autovalores computados, etc., o código compilado na biblioteca LAPACK pode ser usado (através do pacote NumPy). Nesta etapa, os cálculos são realizados com o mesmo desempenho do Fortran/C, haja vista que o código usado é essencialmente escrito em Fortran/C. O Matlab, a propósito, explora exatamente isto: a linguagem de script Matlab é muito lenta (cerca de 10 vezes mais lenta do que Python), mas o Matlab ganha seu poder ao delegar operações matriciais às bibliotecas compiladas LAPACK.\n",
    "\n",
    "   - As bibliotecas numéricas C/Fortran existentes podem ser \"interfaceadas\" (para serem chamadas a partir do programa Python) através de, por exemplo, Swig, Boost.Python e Cython.\n",
    "\n",
    "   - O Python pode ser estendido através de linguagens compiladas se a parte do problema com grande demanda computacional não for algoritmicamente padronizada e não houver biblioteca existente que possa ser usada. As linguagens comumente utilizadas para implementar extensões rápidas são C, C++ e Fortran.\n",
    "\n",
    "   - Listamos algumas ferramentas que são usadas para usar código compilado a partir do Python:\n",
    "\n",
    "       - A extensão scipy.weave é útil se apenas uma expressão curta precisar ser expressa em C. - A interface Cython está crescendo em popularidade para declarar semi-automaticamente os tipos de variáveis no código Python, para traduzir esse código para C (automaticamente) e depois usar o código C compilado a partir do Python. O Cython também é usado para encapsular rapidamente uma biblioteca C existente com uma interface para que a biblioteca C possa ser usada a partir do Python.\n",
    "\n",
    "       - Boost.Python é especializado para encapsular código C++ no Python.\n",
    "\n",
    "A conclusão é que Python é “rápida o suficiente” para a maioria das tarefas computacionais e sua linguagem de alto nível amigável ao usuário frequentemente é compensada em velocidade reduzida quando comparada a linguagens compiladas de baixo nível. A combinação de Python com códigos compilados escritos sob medida para desempenho de partes críticas do código resulta em velocidades virtualmente ótimas na maioria dos casos."
   ]
  },
  {
   "cell_type": "markdown",
   "id": "943daf75-1997-4547-a53d-6dae9bc7cf0a",
   "metadata": {},
   "source": [
    "### Estratégias de otimização\n",
    "\n",
    "Em geral, entendemos a redução do tempo de execução quando discutimos \"otimização de código\" no contexto da modelagem computacional e, essencialmente, realizamos os cálculos necessários o mais rápido possível. (Às vezes, precisamos reduzir a quantidade de memória RAM, bem como a quantidade de entrada e saída de dados para o disco ou para a rede). Ao mesmo tempo, precisamos ter certeza de que não investimos quantidades inapropriadas de tempo de programação para acelerar o código. Como sempre, deve haver um equilíbrio entre o tempo dos programadores e a melhoria que podemos obter com isso.\n",
    "\n",
    "### Primeiro faça certo, depois otimize\n",
    "\n",
    "Para escrever códigos rápidos de forma eficaz, observamos que a ordem correta é: (i) escrever um programa que realize o cálculo correto. Para isso, escolha uma linguagem/abordagem que lhe permita escrever o código rapidamente e fazê-lo funcionar rapidamente - independentemente da velocidade de execução. Então (ii) altere o programa ou reescreva-o do zero na mesma linguagem para tornar a execução mais rápida. Durante o processo, continue comparando os resultados com a versão lenta primeiramente escrita para garantir que a otimização não introduza erros. Uma vez que estivermos familiarizados com o conceito de testes de regressão, eles devem ser usados para comparar o código novo (e esperançosamente mais rápido) com o original.\n",
    "\n",
    "Um padrão comum em Python é começar a escrever o código Python puro e, em seguida, começar a usar bibliotecas Python que usam código compilado internamente (como os arrays rápidos fornecidas pelo NumPy e as rotinas do SciPy, que voltam-se para códigos numéricos já estabelecidos, tais como ODEPACK, LAPACK e outros). Se necessário, pode-se - depois de uma análise de desempenho (profiling) cuidadosa - começar a substituir partes do código Python por uma linguagem compilada, como C ou Fortran, a fim de melhorar a velocidade de execução ainda mais (conforme discutido acima).\n",
    "\n",
    "### Prototipagem em Python\n",
    "\n",
    "Verifica-se que - mesmo se um código específico tiver que ser escrito em, digamos, C++ - é (frequentemente) mais eficiente prototipar o código em Python, e uma vez que um projeto apropriado (estrutura de classes) for encontrado, transferir o código para C++."
   ]
  },
  {
   "cell_type": "code",
   "execution_count": null,
   "id": "25a34727-6732-46ab-9411-71086c8a0591",
   "metadata": {},
   "outputs": [],
   "source": []
  }
 ],
 "metadata": {
  "kernelspec": {
   "display_name": "Python 3 (ipykernel)",
   "language": "python",
   "name": "python3"
  },
  "language_info": {
   "codemirror_mode": {
    "name": "ipython",
    "version": 3
   },
   "file_extension": ".py",
   "mimetype": "text/x-python",
   "name": "python",
   "nbconvert_exporter": "python",
   "pygments_lexer": "ipython3",
   "version": "3.12.4"
  }
 },
 "nbformat": 4,
 "nbformat_minor": 5
}
